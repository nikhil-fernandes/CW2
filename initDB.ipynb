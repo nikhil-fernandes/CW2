{
 "cells": [
  {
   "cell_type": "code",
   "execution_count": 1,
   "metadata": {},
   "outputs": [],
   "source": [
    "import sqlite3\n",
    "import hashlib"
   ]
  },
  {
   "cell_type": "code",
   "execution_count": 2,
   "metadata": {},
   "outputs": [],
   "source": [
    "# access_database requires the name of a sqlite3 database file and the query\n",
    "# It does not return the result of the query\n",
    "def access_database(dbfile, query):\n",
    "    connect = sqlite3.connect(dbfile)\n",
    "    cursor = connect.cursor()\n",
    "    cursor.execute(query)\n",
    "    connect.commit()\n",
    "    connect.close()\n",
    "\n",
    "# access_database requires the name of a sqlite3 database file and the query\n",
    "# It returns the result of the query\n",
    "def access_database_with_result(dbfile, query):\n",
    "    connect = sqlite3.connect(dbfile)\n",
    "    cursor = connect.cursor()\n",
    "    rows = cursor.execute(query).fetchall()\n",
    "    connect.close()\n",
    "    return rows"
   ]
  },
  {
   "cell_type": "code",
   "execution_count": 5,
   "metadata": {},
   "outputs": [],
   "source": [
    "# Set up the table(s)\n",
    "\n",
    "def setup_assessment_tables(dbfile):\n",
    "    # Get rid of any existing data\n",
    "    access_database(dbfile, \"DROP TABLE IF EXISTS users\")\n",
    "    access_database(dbfile, \"DROP TABLE IF EXISTS traffic\")\n",
    "    access_database(dbfile, \"DROP TABLE IF EXISTS activesessions\")\n",
    "    access_database(dbfile, \"DROP TABLE IF EXISTS sessions\")\n",
    "    \n",
    "    # Freshly setup tables\n",
    "    access_database(dbfile, \"CREATE TABLE users (username TEXT PRIMARY KEY, password TEXT NOT NULL)\")\n",
    "    access_database(dbfile, \"CREATE TABLE traffic (recordid INTEGER PRIMARY KEY AUTOINCREMENT, userid TEXT, iuser INT, location TEXT, type TEXT, occ INT, time TIMESTAMP, count INT)\")\n",
    "    access_database(dbfile, \"CREATE TABLE activesessions (username TEXT, iuser INT, imagic INT)\")\n",
    "    access_database(dbfile, \"CREATE TABLE sessions (username TEXT, iuser INT, start TIMESTAMP, end TIMESTAMP)\")\n",
    "    \n",
    "    #Prepopulate the database - NOTE: passwords are hashed\n",
    "    user_p_pairs = [('test1','password1'),('test2','password2'),('test3','password3'),('test4','password4'),('test5','password5'),('test6','password6'),('test7','password7'),('test8','password8'),('test9','password9'),('test10','password10')]\n",
    "    for pair in user_p_pairs:\n",
    "        hashed = hashlib.sha256(pair[1].encode('utf8')).hexdigest()\n",
    "        to_insert = (pair[0],hashed)\n",
    "        access_database(dbfile,F\"\"\"INSERT INTO users (username,password) VALUES  {to_insert}\"\"\")"
   ]
  },
  {
   "cell_type": "code",
   "execution_count": 6,
   "metadata": {},
   "outputs": [],
   "source": [
    "#setup_assessment_tables('initial_database.db')"
   ]
  },
  {
   "cell_type": "code",
   "execution_count": 7,
   "metadata": {},
   "outputs": [],
   "source": [
    "setup_assessment_tables('task8.db')"
   ]
  },
  {
   "cell_type": "code",
   "execution_count": 8,
   "metadata": {},
   "outputs": [],
   "source": [
    "setup_assessment_tables('task9.db')"
   ]
  },
  {
   "cell_type": "code",
   "execution_count": null,
   "metadata": {},
   "outputs": [],
   "source": []
  }
 ],
 "metadata": {
  "kernelspec": {
   "display_name": "Python 3",
   "language": "python",
   "name": "python3"
  },
  "language_info": {
   "codemirror_mode": {
    "name": "ipython",
    "version": 3
   },
   "file_extension": ".py",
   "mimetype": "text/x-python",
   "name": "python",
   "nbconvert_exporter": "python",
   "pygments_lexer": "ipython3",
   "version": "3.8.3"
  }
 },
 "nbformat": 4,
 "nbformat_minor": 4
}
